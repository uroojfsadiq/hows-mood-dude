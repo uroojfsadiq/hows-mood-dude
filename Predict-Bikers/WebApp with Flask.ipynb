{
 "cells": [
  {
   "cell_type": "code",
   "execution_count": null,
   "metadata": {},
   "outputs": [
    {
     "name": "stdout",
     "output_type": "stream",
     "text": [
      " * Serving Flask app \"__main__\" (lazy loading)\n",
      " * Environment: production\n",
      "   WARNING: This is a development server. Do not use it in a production deployment.\n",
      "   Use a production WSGI server instead.\n",
      " * Debug mode: off\n"
     ]
    },
    {
     "name": "stderr",
     "output_type": "stream",
     "text": [
      " * Running on http://127.0.0.1:5000/ (Press CTRL+C to quit)\n",
      "127.0.0.1 - - [05/Apr/2020 06:20:46] \"GET / HTTP/1.1\" 200 -\n",
      "127.0.0.1 - - [05/Apr/2020 06:20:46] \"GET / HTTP/1.1\" 200 -\n",
      "127.0.0.1 - - [05/Apr/2020 06:20:51] \"POST / HTTP/1.1\" 200 -\n",
      "127.0.0.1 - - [05/Apr/2020 06:20:51] \"GET / HTTP/1.1\" 200 -\n"
     ]
    }
   ],
   "source": [
    "import flask\n",
    "import pickle\n",
    "import pandas as pd\n",
    "# Use pickle to load in the pre-trained model.\n",
    "with open(f'model/bike_model_xgboost.pkl', 'rb') as f:\n",
    "    model = pickle.load(f)\n",
    "app = flask.Flask(__name__, template_folder='templates')\n",
    "@app.route('/', methods=['GET', 'POST'])\n",
    "def main():\n",
    "    if flask.request.method == 'GET':\n",
    "        return(flask.render_template('main.html'))\n",
    "    if flask.request.method == 'POST':\n",
    "        temperature = flask.request.form['temperature']\n",
    "        humidity = flask.request.form['humidity']\n",
    "        windspeed = flask.request.form['windspeed']\n",
    "        input_variables = pd.DataFrame([[temperature, humidity, windspeed]],\n",
    "                                       columns=['temperature', 'humidity', 'windspeed'],\n",
    "                                       dtype=float)\n",
    "        prediction = model.predict(input_variables)[0]\n",
    "        return flask.render_template('main.html',\n",
    "                                     original_input={'Temperature':temperature,\n",
    "                                                     'Humidity':humidity,\n",
    "                                                     'Windspeed':windspeed},\n",
    "                                     result=prediction,\n",
    "                                     )\n",
    "if __name__ == '__main__':\n",
    "    app.run()"
   ]
  },
  {
   "cell_type": "code",
   "execution_count": null,
   "metadata": {},
   "outputs": [],
   "source": []
  }
 ],
 "metadata": {
  "kernelspec": {
   "display_name": "Python 3",
   "language": "python",
   "name": "python3"
  },
  "language_info": {
   "codemirror_mode": {
    "name": "ipython",
    "version": 3
   },
   "file_extension": ".py",
   "mimetype": "text/x-python",
   "name": "python",
   "nbconvert_exporter": "python",
   "pygments_lexer": "ipython3",
   "version": "3.7.4"
  }
 },
 "nbformat": 4,
 "nbformat_minor": 2
}
