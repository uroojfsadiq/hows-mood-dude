{
 "cells": [
  {
   "cell_type": "code",
   "execution_count": 32,
   "metadata": {},
   "outputs": [
    {
     "ename": "TabError",
     "evalue": "inconsistent use of tabs and spaces in indentation (<ipython-input-32-389ae9e2161b>, line 38)",
     "output_type": "error",
     "traceback": [
      "\u001b[0;36m  File \u001b[0;32m\"<ipython-input-32-389ae9e2161b>\"\u001b[0;36m, line \u001b[0;32m38\u001b[0m\n\u001b[0;31m    if file.filename == '':\u001b[0m\n\u001b[0m                           ^\u001b[0m\n\u001b[0;31mTabError\u001b[0m\u001b[0;31m:\u001b[0m inconsistent use of tabs and spaces in indentation\n"
     ]
    }
   ],
   "source": [
    "import os\n",
    "import urllib.request\n",
    "from flask import Flask, flash, request, redirect, render_template\n",
    "from werkzeug.utils import secure_filename\n",
    "import pickle\n",
    "import pandas as pd\n",
    "\n",
    "with open(f'model/pred.pkl', 'rb') as f:\n",
    "    model = pickle.load(f)\n",
    "\n",
    "UPLOAD_FOLDER = './uploads'\n",
    "\n",
    "app = flask.Flask(__name__, template_folder='templates')\n",
    "app.secret_key = \"secret key\"\n",
    "app.config['UPLOAD_FOLDER'] = UPLOAD_FOLDER\n",
    "app.config['MAX_CONTENT_LENGTH'] = 16 * 1024 * 1024\n",
    "\n",
    "ALLOWED_EXTENSIONS = set(['wav'])\n",
    "\n",
    "\n",
    "\n",
    "\n",
    "def allowed_file(filename):\n",
    "    return '.' in filename and filename.rsplit('.', 1)[1].lower() in ALLOWED_EXTENSIONS\n",
    "    \n",
    "@app.route('/', methods=['GET', 'POST'])\n",
    "def main():\n",
    "    if flask.request.method == 'GET':\n",
    "        return(flask.render_template('upload.html'))\n",
    "\n",
    "\n",
    "\n",
    "if flask.request.method == 'POST':\n",
    "    if 'file' not in request.files:\n",
    "        flash('No file part')\n",
    "        return redirect(request.url)\n",
    "        file = request.files['file']\n",
    "    if file.filename == '':\n",
    "        flash('No file selected for uploading')\n",
    "        return redirect(request.url)\n",
    "    if file and allowed_file(file.filename):\n",
    "        filename = secure_filename(file.filename)\n",
    "        file.save(os.path.join(app.config['UPLOAD_FOLDER'], filename))\n",
    "        flash('File successfully uploaded')\n",
    "        return  redirect('/')\n",
    "\telse:\n",
    "\t\tflash('Allowed file type is just wav for now')\n",
    "\t\treturn redirect(request.url)\n",
    "\n",
    "if __name__ == \"__main__\":\n",
    "    app.run()"
   ]
  },
  {
   "cell_type": "code",
   "execution_count": null,
   "metadata": {},
   "outputs": [],
   "source": []
  },
  {
   "cell_type": "code",
   "execution_count": null,
   "metadata": {},
   "outputs": [],
   "source": []
  }
 ],
 "metadata": {
  "kernelspec": {
   "display_name": "Python 3",
   "language": "python",
   "name": "python3"
  },
  "language_info": {
   "codemirror_mode": {
    "name": "ipython",
    "version": 3
   },
   "file_extension": ".py",
   "mimetype": "text/x-python",
   "name": "python",
   "nbconvert_exporter": "python",
   "pygments_lexer": "ipython3",
   "version": "3.7.4"
  }
 },
 "nbformat": 4,
 "nbformat_minor": 2
}
