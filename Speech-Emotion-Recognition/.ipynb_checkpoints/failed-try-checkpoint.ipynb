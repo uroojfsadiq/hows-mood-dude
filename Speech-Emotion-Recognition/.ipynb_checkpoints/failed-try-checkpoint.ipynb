{
 "cells": [
  {
   "cell_type": "code",
   "execution_count": null,
   "metadata": {},
   "outputs": [
    {
     "name": "stdout",
     "output_type": "stream",
     "text": [
      " * Serving Flask app \"__main__\" (lazy loading)\n",
      " * Environment: production\n",
      "   WARNING: This is a development server. Do not use it in a production deployment.\n",
      "   Use a production WSGI server instead.\n",
      " * Debug mode: off\n"
     ]
    },
    {
     "name": "stderr",
     "output_type": "stream",
     "text": [
      " * Running on http://127.0.0.1:5000/ (Press CTRL+C to quit)\n",
      "127.0.0.1 - - [05/Apr/2020 06:34:18] \"GET / HTTP/1.1\" 200 -\n",
      "127.0.0.1 - - [05/Apr/2020 06:34:18] \"GET / HTTP/1.1\" 200 -\n",
      "127.0.0.1 - - [05/Apr/2020 06:34:23] \"POST / HTTP/1.1\" 302 -\n",
      "127.0.0.1 - - [05/Apr/2020 06:34:23] \"GET / HTTP/1.1\" 200 -\n",
      "127.0.0.1 - - [05/Apr/2020 06:34:24] \"GET / HTTP/1.1\" 200 -\n"
     ]
    }
   ],
   "source": [
    "import os\n",
    "import urllib.request\n",
    "from flask import Flask, flash, request, redirect, render_template\n",
    "from werkzeug.utils import secure_filename\n",
    "import pickle\n",
    "import pandas as pd\n",
    "\n",
    "with open(f'model/pred.pkl', 'rb') as f:\n",
    "    model = pickle.load(f)\n",
    "\n",
    "UPLOAD_FOLDER = './uploads'\n",
    "\n",
    "app = Flask(__name__)\n",
    "app.secret_key = \"secret key\"\n",
    "app.config['UPLOAD_FOLDER'] = UPLOAD_FOLDER\n",
    "app.config['MAX_CONTENT_LENGTH'] = 16 * 1024 * 1024\n",
    "\n",
    "ALLOWED_EXTENSIONS = set(['wav'])\n",
    "\n",
    "\n",
    "def allowed_file(filename):\n",
    "\treturn '.' in filename and filename.rsplit('.', 1)[1].lower() in ALLOWED_EXTENSIONS\n",
    "\t\n",
    "@app.route('/')\n",
    "def upload_form():\n",
    "\treturn render_template('upload.html')\n",
    "\n",
    "@app.route('/', methods=['POST'])\n",
    "def upload_file():\n",
    "\tif request.method == 'POST':\n",
    "        # check if the post request has the file part\n",
    "\t\tif 'file' not in request.files:\n",
    "\t\t\tflash('No file part')\n",
    "\t\t\treturn redirect(request.url)\n",
    "\t\tfile = request.files['file']\n",
    "\t\tif file.filename == '':\n",
    "\t\t\tflash('No file selected for uploading')\n",
    "\t\t\treturn redirect(request.url)\n",
    "\t\tif file and allowed_file(file.filename):\n",
    "\t\t\tfilename = secure_filename(file.filename)\n",
    "\t\t\tfile.save(os.path.join(app.config['UPLOAD_FOLDER'], filename))\n",
    "\t\t\tflash('File successfully uploaded')\n",
    "\t\t\treturn  redirect('/')\n",
    "\t\telse:\n",
    "\t\t\tflash('Allowed file type is just wav for now')\n",
    "\t\t\treturn redirect(request.url)\n",
    "\n",
    "if __name__ == \"__main__\":\n",
    "    app.run()"
   ]
  },
  {
   "cell_type": "code",
   "execution_count": null,
   "metadata": {},
   "outputs": [],
   "source": []
  }
 ],
 "metadata": {
  "kernelspec": {
   "display_name": "Python 3",
   "language": "python",
   "name": "python3"
  },
  "language_info": {
   "codemirror_mode": {
    "name": "ipython",
    "version": 3
   },
   "file_extension": ".py",
   "mimetype": "text/x-python",
   "name": "python",
   "nbconvert_exporter": "python",
   "pygments_lexer": "ipython3",
   "version": "3.7.4"
  }
 },
 "nbformat": 4,
 "nbformat_minor": 2
}
