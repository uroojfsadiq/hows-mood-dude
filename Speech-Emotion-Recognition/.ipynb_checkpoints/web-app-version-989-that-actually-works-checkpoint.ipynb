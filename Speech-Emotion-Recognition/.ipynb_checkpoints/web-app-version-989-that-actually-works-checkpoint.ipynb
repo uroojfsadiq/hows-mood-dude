{
 "cells": [
  {
   "cell_type": "code",
   "execution_count": null,
   "metadata": {},
   "outputs": [],
   "source": [
    "import os\n",
    "import urllib.request\n",
    "from flask import Flask, flash, request, redirect, render_template\n",
    "from werkzeug.utils import secure_filename\n",
    "import pickle\n",
    "import pandas as pd\n",
    "\n",
    "with open(f'model/pred.pkl', 'rb') as f:\n",
    "    model = pickle.load(f)\n",
    "\n",
    "UPLOAD_FOLDER = './uploads'\n",
    "\n",
    "app = Flask(__name__)\n",
    "app.secret_key = \"secret key\"\n",
    "app.config['UPLOAD_FOLDER'] = UPLOAD_FOLDER\n",
    "app.config['MAX_CONTENT_LENGTH'] = 16 * 1024 * 1024\n",
    "\n",
    "ALLOWED_EXTENSIONS = set(['wav'])\n",
    "\n",
    "\n",
    "def allowed_file(filename):\n",
    "\treturn '.' in filename and filename.rsplit('.', 1)[1].lower() in ALLOWED_EXTENSIONS\n",
    "\t\n",
    "@app.route('/')\n",
    "def upload_form():\n",
    "\treturn render_template('upload.html')\n",
    "\n",
    "@app.route('/', methods=['POST'])\n",
    "def upload_file():\n",
    "    if request.method == 'POST':\n",
    "        if 'file' not in request.files:\n",
    "            flash('No file part')\n",
    "            return redirect(request.url)\n",
    "        file = request.files['file']\n",
    "        if file.filename == '':\n",
    "            flash('No file selected for uploading')\n",
    "            return redirect(request.url)\n",
    "        if file and allowed_file(file.filename):\n",
    "            filename = secure_filename(file.filename)\n",
    "            file.save(os.path.join(app.config['UPLOAD_FOLDER'], filename))\n",
    "            flash('File successfully uploaded')\n",
    "            myp = \n",
    "            prediction = model.predict(file.reshape(-1,1))\n",
    "            return  render_template('upload.html', result=filename)\n",
    "        else:\n",
    "            flash('Allowed file type is just wav for now')\n",
    "            return redirect(request.url)\n",
    "\n",
    "if __name__ == \"__main__\":\n",
    "    app.run()"
   ]
  },
  {
   "cell_type": "code",
   "execution_count": null,
   "metadata": {},
   "outputs": [],
   "source": []
  }
 ],
 "metadata": {
  "kernelspec": {
   "display_name": "Python 3",
   "language": "python",
   "name": "python3"
  },
  "language_info": {
   "codemirror_mode": {
    "name": "ipython",
    "version": 3
   },
   "file_extension": ".py",
   "mimetype": "text/x-python",
   "name": "python",
   "nbconvert_exporter": "python",
   "pygments_lexer": "ipython3",
   "version": "3.7.4"
  }
 },
 "nbformat": 4,
 "nbformat_minor": 2
}
