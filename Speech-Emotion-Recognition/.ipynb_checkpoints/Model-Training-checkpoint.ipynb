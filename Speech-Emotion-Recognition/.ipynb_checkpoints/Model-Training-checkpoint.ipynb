{
 "cells": [
  {
   "cell_type": "code",
   "execution_count": 21,
   "metadata": {},
   "outputs": [],
   "source": [
    "import librosa\n",
    "import soundfile\n",
    "import os, glob, pickle\n",
    "import numpy as np\n",
    "from sklearn.model_selection import train_test_split\n",
    "from sklearn.neural_network import MLPClassifier\n",
    "from sklearn.metrics import accuracy_score"
   ]
  },
  {
   "cell_type": "code",
   "execution_count": 22,
   "metadata": {},
   "outputs": [],
   "source": [
    "def extract_feature(file_name, mfcc, chroma, mel):\n",
    "    with soundfile.SoundFile(file_name) as sound_file:\n",
    "        X = sound_file.read(dtype=\"float32\")\n",
    "        sample_rate=sound_file.samplerate\n",
    "        if chroma:\n",
    "            stft=np.abs(librosa.stft(X))\n",
    "        result=np.array([])\n",
    "        if mfcc:\n",
    "            mfccs=np.mean(librosa.feature.mfcc(y=X, sr=sample_rate, n_mfcc=40).T, axis=0)\n",
    "            result=np.hstack((result, mfccs))\n",
    "        if chroma:\n",
    "            chroma=np.mean(librosa.feature.chroma_stft(S=stft, sr=sample_rate).T,axis=0)\n",
    "            result=np.hstack((result, chroma))\n",
    "        if mel:\n",
    "            mel=np.mean(librosa.feature.melspectrogram(X, sr=sample_rate).T,axis=0)\n",
    "            result=np.hstack((result, mel))\n",
    "        return result"
   ]
  },
  {
   "cell_type": "code",
   "execution_count": 23,
   "metadata": {},
   "outputs": [],
   "source": [
    "emotions={\n",
    "  '01':'neutral',\n",
    "  '02':'calm',\n",
    "  '03':'happy',\n",
    "  '04':'sad',\n",
    "  '05':'angry',\n",
    "  '06':'fearful',\n",
    "  '07':'disgust',\n",
    "  '08':'surprised'\n",
    "}\n",
    "\n",
    "#DataFlair - Emotions to observe\n",
    "observed_emotions=['calm', 'happy', 'fearful', 'disgust']\n",
    "\n",
    "def load_data(test_size=0.2):\n",
    "    x,y=[],[]\n",
    "    for file in glob.glob(\"speech-emotion-recognition-ravdess-data/Actor_*/*.wav\"):\n",
    "        file_name=os.path.basename(file)\n",
    "        emotion=emotions[file_name.split(\"-\")[2]]\n",
    "        if emotion not in observed_emotions:\n",
    "            continue\n",
    "        feature=extract_feature(file, mfcc=True, chroma=True, mel=True)\n",
    "        x.append(feature)\n",
    "        y.append(emotion)\n",
    "    return train_test_split(np.array(x), y, test_size=test_size, random_state=9)"
   ]
  },
  {
   "cell_type": "code",
   "execution_count": 24,
   "metadata": {},
   "outputs": [],
   "source": [
    "x_train,x_test,y_train,y_test=load_data(test_size=0.25)"
   ]
  },
  {
   "cell_type": "code",
   "execution_count": 25,
   "metadata": {},
   "outputs": [
    {
     "name": "stdout",
     "output_type": "stream",
     "text": [
      "(576, 192)\n"
     ]
    }
   ],
   "source": [
    "print((x_train.shape[0], x_test.shape[0]))"
   ]
  },
  {
   "cell_type": "code",
   "execution_count": 26,
   "metadata": {},
   "outputs": [
    {
     "name": "stdout",
     "output_type": "stream",
     "text": [
      "Features extracted: 180\n"
     ]
    }
   ],
   "source": [
    "print(f'Features extracted: {x_train.shape[1]}')"
   ]
  },
  {
   "cell_type": "code",
   "execution_count": 27,
   "metadata": {},
   "outputs": [],
   "source": [
    "model=MLPClassifier(alpha=0.01, batch_size=256, epsilon=1e-08, hidden_layer_sizes=(300,), learning_rate='adaptive', max_iter=500)"
   ]
  },
  {
   "cell_type": "code",
   "execution_count": 28,
   "metadata": {},
   "outputs": [
    {
     "data": {
      "text/plain": [
       "MLPClassifier(activation='relu', alpha=0.01, batch_size=256, beta_1=0.9,\n",
       "              beta_2=0.999, early_stopping=False, epsilon=1e-08,\n",
       "              hidden_layer_sizes=(300,), learning_rate='adaptive',\n",
       "              learning_rate_init=0.001, max_iter=500, momentum=0.9,\n",
       "              n_iter_no_change=10, nesterovs_momentum=True, power_t=0.5,\n",
       "              random_state=None, shuffle=True, solver='adam', tol=0.0001,\n",
       "              validation_fraction=0.1, verbose=False, warm_start=False)"
      ]
     },
     "execution_count": 28,
     "metadata": {},
     "output_type": "execute_result"
    }
   ],
   "source": [
    "model.fit(x_train,y_train)"
   ]
  },
  {
   "cell_type": "code",
   "execution_count": 29,
   "metadata": {},
   "outputs": [
    {
     "data": {
      "text/plain": [
       "MLPClassifier(activation='relu', alpha=0.01, batch_size=256, beta_1=0.9,\n",
       "              beta_2=0.999, early_stopping=False, epsilon=1e-08,\n",
       "              hidden_layer_sizes=(300,), learning_rate='adaptive',\n",
       "              learning_rate_init=0.001, max_iter=500, momentum=0.9,\n",
       "              n_iter_no_change=10, nesterovs_momentum=True, power_t=0.5,\n",
       "              random_state=None, shuffle=True, solver='adam', tol=0.0001,\n",
       "              validation_fraction=0.1, verbose=False, warm_start=False)"
      ]
     },
     "execution_count": 29,
     "metadata": {},
     "output_type": "execute_result"
    }
   ],
   "source": [
    "model.fit(x_train,y_train)"
   ]
  },
  {
   "cell_type": "code",
   "execution_count": 30,
   "metadata": {},
   "outputs": [
    {
     "ename": "ValueError",
     "evalue": "Expected 2D array, got 1D array instead:\narray=[-6.50842651e+02  5.31168976e+01 -3.24820161e+00  1.36377134e+01\n  1.04317820e+00 -4.15961885e+00 -4.82772589e+00 -7.49004984e+00\n -7.06336498e+00  1.06088924e+00 -6.15476799e+00 -2.28895736e+00\n -3.50914955e+00 -9.88826394e-01 -3.84041548e+00 -4.90666962e+00\n -1.68768966e+00 -4.18221903e+00 -3.40157509e+00 -3.20497680e+00\n -2.42023516e+00 -3.34490705e+00 -4.54022408e+00 -2.51192498e+00\n -5.70736265e+00 -4.29069847e-01 -3.15736008e+00 -2.16549039e+00\n -2.49168658e+00 -1.30068219e+00 -2.78908300e+00 -5.14812946e-01\n -1.56024188e-01  4.56350654e-01 -6.50857806e-01 -2.47001123e+00\n -2.23393273e+00 -1.31368697e+00 -8.41841757e-01 -4.34940726e-01\n  6.10659659e-01  6.31776512e-01  6.29768848e-01  6.43004417e-01\n  6.66856408e-01  6.64844394e-01  6.91794217e-01  7.08641231e-01\n  6.93990529e-01  7.08724856e-01  7.58231580e-01  6.80246174e-01\n  1.11292666e-05  2.74194645e-05  5.50472250e-05  1.25642670e-02\n  9.52399373e-02  5.57591803e-02  2.58463044e-02  4.34308611e-02\n  2.75277589e-02  3.72569859e-02  3.03003043e-02  1.73047110e-02\n  5.86872827e-03  8.60254001e-03  2.32251231e-02  8.82430449e-02\n  1.23971231e-01  3.81348990e-02  1.33314701e-02  2.70520169e-02\n  3.23739685e-02  1.04268482e-02  1.99348852e-02  2.29657665e-02\n  1.58798173e-02  9.09150299e-03  3.20309438e-02  4.01367098e-02\n  3.72500867e-02  1.26355141e-02  4.87277331e-03  9.88590345e-03\n  1.46970730e-02  2.62184348e-03  1.79766153e-03  9.65191750e-04\n  1.99380750e-03  5.91729535e-03  4.06141719e-03  6.43572956e-03\n  3.02142976e-03  2.28213612e-03  2.73152487e-03  1.53905910e-03\n  2.12967396e-03  2.04644911e-03  2.70841108e-03  1.31115932e-02\n  9.48763173e-03  6.12428971e-03  7.27575365e-03  7.68335583e-03\n  1.14760743e-02  8.59810412e-03  3.65248509e-03  1.67050271e-03\n  1.87291927e-03  2.27807462e-03  2.16463441e-03  1.35583035e-03\n  2.05081468e-03  1.64356024e-03  8.79155996e-04  1.10404077e-03\n  7.92676990e-04  4.42536868e-04  7.24996149e-04  9.94129339e-04\n  6.97417301e-04  4.74786008e-04  4.96331777e-04  3.60408390e-04\n  3.11677548e-04  3.43919004e-04  1.96928770e-04  2.97766208e-04\n  4.26171202e-04  6.89749082e-04  8.27606302e-04  1.20821875e-03\n  9.27284360e-04  9.89547698e-04  8.76686710e-04  5.84006833e-04\n  4.86923207e-04  2.28543635e-04  1.91711981e-04  2.07277903e-04\n  2.27960045e-04  2.57528358e-04  2.90928729e-04  3.38839600e-04\n  1.81529394e-04  1.18137235e-04  7.82684147e-05  1.22124009e-04\n  1.33177542e-04  9.02032625e-05  5.79868283e-05  5.54818835e-05\n  6.74782568e-05  1.33484617e-04  1.18931923e-04  1.01063357e-04\n  1.43288955e-04  2.19632042e-04  1.65942271e-04  2.28161211e-04\n  2.21550144e-04  3.00386775e-04  2.36804044e-04  3.06310336e-04\n  3.37384176e-04  3.24730296e-04  1.83541633e-04  1.56623981e-04\n  1.18544012e-04  1.05125502e-04  8.01463466e-05  1.10025932e-04\n  1.62305209e-04  1.32145986e-04  1.27200939e-04  1.12387053e-04\n  7.78029062e-05  5.32868944e-05  4.49146064e-05  2.97620154e-05].\nReshape your data either using array.reshape(-1, 1) if your data has a single feature or array.reshape(1, -1) if it contains a single sample.",
     "output_type": "error",
     "traceback": [
      "\u001b[0;31m---------------------------------------------------------------------------\u001b[0m",
      "\u001b[0;31mValueError\u001b[0m                                Traceback (most recent call last)",
      "\u001b[0;32m<ipython-input-30-e097961c3c16>\u001b[0m in \u001b[0;36m<module>\u001b[0;34m\u001b[0m\n\u001b[0;32m----> 1\u001b[0;31m \u001b[0my_pred\u001b[0m\u001b[0;34m=\u001b[0m\u001b[0mmodel\u001b[0m\u001b[0;34m.\u001b[0m\u001b[0mpredict\u001b[0m\u001b[0;34m(\u001b[0m\u001b[0mx_test\u001b[0m\u001b[0;34m[\u001b[0m\u001b[0;36m0\u001b[0m\u001b[0;34m]\u001b[0m\u001b[0;34m)\u001b[0m\u001b[0;34m\u001b[0m\u001b[0;34m\u001b[0m\u001b[0m\n\u001b[0m\u001b[1;32m      2\u001b[0m \u001b[0mprint\u001b[0m\u001b[0;34m(\u001b[0m\u001b[0my_pred\u001b[0m\u001b[0;34m)\u001b[0m\u001b[0;34m\u001b[0m\u001b[0;34m\u001b[0m\u001b[0m\n",
      "\u001b[0;32m/Applications/anaconda3/lib/python3.7/site-packages/sklearn/neural_network/multilayer_perceptron.py\u001b[0m in \u001b[0;36mpredict\u001b[0;34m(self, X)\u001b[0m\n\u001b[1;32m    956\u001b[0m         \"\"\"\n\u001b[1;32m    957\u001b[0m         \u001b[0mcheck_is_fitted\u001b[0m\u001b[0;34m(\u001b[0m\u001b[0mself\u001b[0m\u001b[0;34m,\u001b[0m \u001b[0;34m\"coefs_\"\u001b[0m\u001b[0;34m)\u001b[0m\u001b[0;34m\u001b[0m\u001b[0;34m\u001b[0m\u001b[0m\n\u001b[0;32m--> 958\u001b[0;31m         \u001b[0my_pred\u001b[0m \u001b[0;34m=\u001b[0m \u001b[0mself\u001b[0m\u001b[0;34m.\u001b[0m\u001b[0m_predict\u001b[0m\u001b[0;34m(\u001b[0m\u001b[0mX\u001b[0m\u001b[0;34m)\u001b[0m\u001b[0;34m\u001b[0m\u001b[0;34m\u001b[0m\u001b[0m\n\u001b[0m\u001b[1;32m    959\u001b[0m \u001b[0;34m\u001b[0m\u001b[0m\n\u001b[1;32m    960\u001b[0m         \u001b[0;32mif\u001b[0m \u001b[0mself\u001b[0m\u001b[0;34m.\u001b[0m\u001b[0mn_outputs_\u001b[0m \u001b[0;34m==\u001b[0m \u001b[0;36m1\u001b[0m\u001b[0;34m:\u001b[0m\u001b[0;34m\u001b[0m\u001b[0;34m\u001b[0m\u001b[0m\n",
      "\u001b[0;32m/Applications/anaconda3/lib/python3.7/site-packages/sklearn/neural_network/multilayer_perceptron.py\u001b[0m in \u001b[0;36m_predict\u001b[0;34m(self, X)\u001b[0m\n\u001b[1;32m    660\u001b[0m             \u001b[0mThe\u001b[0m \u001b[0mdecision\u001b[0m \u001b[0mfunction\u001b[0m \u001b[0mof\u001b[0m \u001b[0mthe\u001b[0m \u001b[0msamples\u001b[0m \u001b[0;32mfor\u001b[0m \u001b[0meach\u001b[0m \u001b[0;32mclass\u001b[0m \u001b[0;32min\u001b[0m \u001b[0mthe\u001b[0m \u001b[0mmodel\u001b[0m\u001b[0;34m.\u001b[0m\u001b[0;34m\u001b[0m\u001b[0;34m\u001b[0m\u001b[0m\n\u001b[1;32m    661\u001b[0m         \"\"\"\n\u001b[0;32m--> 662\u001b[0;31m         \u001b[0mX\u001b[0m \u001b[0;34m=\u001b[0m \u001b[0mcheck_array\u001b[0m\u001b[0;34m(\u001b[0m\u001b[0mX\u001b[0m\u001b[0;34m,\u001b[0m \u001b[0maccept_sparse\u001b[0m\u001b[0;34m=\u001b[0m\u001b[0;34m[\u001b[0m\u001b[0;34m'csr'\u001b[0m\u001b[0;34m,\u001b[0m \u001b[0;34m'csc'\u001b[0m\u001b[0;34m,\u001b[0m \u001b[0;34m'coo'\u001b[0m\u001b[0;34m]\u001b[0m\u001b[0;34m)\u001b[0m\u001b[0;34m\u001b[0m\u001b[0;34m\u001b[0m\u001b[0m\n\u001b[0m\u001b[1;32m    663\u001b[0m \u001b[0;34m\u001b[0m\u001b[0m\n\u001b[1;32m    664\u001b[0m         \u001b[0;31m# Make sure self.hidden_layer_sizes is a list\u001b[0m\u001b[0;34m\u001b[0m\u001b[0;34m\u001b[0m\u001b[0;34m\u001b[0m\u001b[0m\n",
      "\u001b[0;32m/Applications/anaconda3/lib/python3.7/site-packages/sklearn/utils/validation.py\u001b[0m in \u001b[0;36mcheck_array\u001b[0;34m(array, accept_sparse, accept_large_sparse, dtype, order, copy, force_all_finite, ensure_2d, allow_nd, ensure_min_samples, ensure_min_features, warn_on_dtype, estimator)\u001b[0m\n\u001b[1;32m    519\u001b[0m                     \u001b[0;34m\"Reshape your data either using array.reshape(-1, 1) if \"\u001b[0m\u001b[0;34m\u001b[0m\u001b[0;34m\u001b[0m\u001b[0m\n\u001b[1;32m    520\u001b[0m                     \u001b[0;34m\"your data has a single feature or array.reshape(1, -1) \"\u001b[0m\u001b[0;34m\u001b[0m\u001b[0;34m\u001b[0m\u001b[0m\n\u001b[0;32m--> 521\u001b[0;31m                     \"if it contains a single sample.\".format(array))\n\u001b[0m\u001b[1;32m    522\u001b[0m \u001b[0;34m\u001b[0m\u001b[0m\n\u001b[1;32m    523\u001b[0m         \u001b[0;31m# in the future np.flexible dtypes will be handled like object dtypes\u001b[0m\u001b[0;34m\u001b[0m\u001b[0;34m\u001b[0m\u001b[0;34m\u001b[0m\u001b[0m\n",
      "\u001b[0;31mValueError\u001b[0m: Expected 2D array, got 1D array instead:\narray=[-6.50842651e+02  5.31168976e+01 -3.24820161e+00  1.36377134e+01\n  1.04317820e+00 -4.15961885e+00 -4.82772589e+00 -7.49004984e+00\n -7.06336498e+00  1.06088924e+00 -6.15476799e+00 -2.28895736e+00\n -3.50914955e+00 -9.88826394e-01 -3.84041548e+00 -4.90666962e+00\n -1.68768966e+00 -4.18221903e+00 -3.40157509e+00 -3.20497680e+00\n -2.42023516e+00 -3.34490705e+00 -4.54022408e+00 -2.51192498e+00\n -5.70736265e+00 -4.29069847e-01 -3.15736008e+00 -2.16549039e+00\n -2.49168658e+00 -1.30068219e+00 -2.78908300e+00 -5.14812946e-01\n -1.56024188e-01  4.56350654e-01 -6.50857806e-01 -2.47001123e+00\n -2.23393273e+00 -1.31368697e+00 -8.41841757e-01 -4.34940726e-01\n  6.10659659e-01  6.31776512e-01  6.29768848e-01  6.43004417e-01\n  6.66856408e-01  6.64844394e-01  6.91794217e-01  7.08641231e-01\n  6.93990529e-01  7.08724856e-01  7.58231580e-01  6.80246174e-01\n  1.11292666e-05  2.74194645e-05  5.50472250e-05  1.25642670e-02\n  9.52399373e-02  5.57591803e-02  2.58463044e-02  4.34308611e-02\n  2.75277589e-02  3.72569859e-02  3.03003043e-02  1.73047110e-02\n  5.86872827e-03  8.60254001e-03  2.32251231e-02  8.82430449e-02\n  1.23971231e-01  3.81348990e-02  1.33314701e-02  2.70520169e-02\n  3.23739685e-02  1.04268482e-02  1.99348852e-02  2.29657665e-02\n  1.58798173e-02  9.09150299e-03  3.20309438e-02  4.01367098e-02\n  3.72500867e-02  1.26355141e-02  4.87277331e-03  9.88590345e-03\n  1.46970730e-02  2.62184348e-03  1.79766153e-03  9.65191750e-04\n  1.99380750e-03  5.91729535e-03  4.06141719e-03  6.43572956e-03\n  3.02142976e-03  2.28213612e-03  2.73152487e-03  1.53905910e-03\n  2.12967396e-03  2.04644911e-03  2.70841108e-03  1.31115932e-02\n  9.48763173e-03  6.12428971e-03  7.27575365e-03  7.68335583e-03\n  1.14760743e-02  8.59810412e-03  3.65248509e-03  1.67050271e-03\n  1.87291927e-03  2.27807462e-03  2.16463441e-03  1.35583035e-03\n  2.05081468e-03  1.64356024e-03  8.79155996e-04  1.10404077e-03\n  7.92676990e-04  4.42536868e-04  7.24996149e-04  9.94129339e-04\n  6.97417301e-04  4.74786008e-04  4.96331777e-04  3.60408390e-04\n  3.11677548e-04  3.43919004e-04  1.96928770e-04  2.97766208e-04\n  4.26171202e-04  6.89749082e-04  8.27606302e-04  1.20821875e-03\n  9.27284360e-04  9.89547698e-04  8.76686710e-04  5.84006833e-04\n  4.86923207e-04  2.28543635e-04  1.91711981e-04  2.07277903e-04\n  2.27960045e-04  2.57528358e-04  2.90928729e-04  3.38839600e-04\n  1.81529394e-04  1.18137235e-04  7.82684147e-05  1.22124009e-04\n  1.33177542e-04  9.02032625e-05  5.79868283e-05  5.54818835e-05\n  6.74782568e-05  1.33484617e-04  1.18931923e-04  1.01063357e-04\n  1.43288955e-04  2.19632042e-04  1.65942271e-04  2.28161211e-04\n  2.21550144e-04  3.00386775e-04  2.36804044e-04  3.06310336e-04\n  3.37384176e-04  3.24730296e-04  1.83541633e-04  1.56623981e-04\n  1.18544012e-04  1.05125502e-04  8.01463466e-05  1.10025932e-04\n  1.62305209e-04  1.32145986e-04  1.27200939e-04  1.12387053e-04\n  7.78029062e-05  5.32868944e-05  4.49146064e-05  2.97620154e-05].\nReshape your data either using array.reshape(-1, 1) if your data has a single feature or array.reshape(1, -1) if it contains a single sample."
     ]
    }
   ],
   "source": [
    "y_pred=model.predict(x_test)\n",
    "print(y_pred)"
   ]
  },
  {
   "cell_type": "code",
   "execution_count": null,
   "metadata": {},
   "outputs": [],
   "source": [
    "accuracy=accuracy_score(y_true=y_test, y_pred=y_pred)\n",
    "#DataFlair - Print the accuracy\n",
    "print(\"Accuracy: {:.2f}%\".format(accuracy*100))"
   ]
  },
  {
   "cell_type": "code",
   "execution_count": null,
   "metadata": {},
   "outputs": [],
   "source": [
    "import pickle\n",
    "with open('pred.pkl', 'wb') as file:\n",
    "    pickle.dump(model, file)"
   ]
  },
  {
   "cell_type": "code",
   "execution_count": null,
   "metadata": {},
   "outputs": [],
   "source": []
  },
  {
   "cell_type": "code",
   "execution_count": null,
   "metadata": {},
   "outputs": [],
   "source": []
  }
 ],
 "metadata": {
  "kernelspec": {
   "display_name": "Python 3",
   "language": "python",
   "name": "python3"
  },
  "language_info": {
   "codemirror_mode": {
    "name": "ipython",
    "version": 3
   },
   "file_extension": ".py",
   "mimetype": "text/x-python",
   "name": "python",
   "nbconvert_exporter": "python",
   "pygments_lexer": "ipython3",
   "version": "3.7.4"
  }
 },
 "nbformat": 4,
 "nbformat_minor": 2
}
