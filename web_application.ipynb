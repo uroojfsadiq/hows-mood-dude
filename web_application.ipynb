{
 "cells": [
  {
   "cell_type": "code",
   "execution_count": null,
   "metadata": {},
   "outputs": [
    {
     "name": "stdout",
     "output_type": "stream",
     "text": [
      " * Serving Flask app \"__main__\" (lazy loading)\n",
      " * Environment: production\n",
      "   WARNING: This is a development server. Do not use it in a production deployment.\n",
      "   Use a production WSGI server instead.\n",
      " * Debug mode: off\n"
     ]
    },
    {
     "name": "stderr",
     "output_type": "stream",
     "text": [
      " * Running on http://127.0.0.1:5000/ (Press CTRL+C to quit)\n",
      "127.0.0.1 - - [11/Apr/2020 00:48:09] \"GET / HTTP/1.1\" 200 -\n",
      "127.0.0.1 - - [11/Apr/2020 00:48:10] \"GET / HTTP/1.1\" 200 -\n",
      "127.0.0.1 - - [11/Apr/2020 00:48:17] \"POST / HTTP/1.1\" 302 -\n",
      "127.0.0.1 - - [11/Apr/2020 00:48:17] \"GET / HTTP/1.1\" 200 -\n",
      "127.0.0.1 - - [11/Apr/2020 00:48:17] \"GET / HTTP/1.1\" 200 -\n",
      "/Applications/anaconda3/lib/python3.7/site-packages/librosa/core/audio.py:161: UserWarning: PySoundFile failed. Trying audioread instead.\n",
      "  warnings.warn('PySoundFile failed. Trying audioread instead.')\n",
      "127.0.0.1 - - [11/Apr/2020 00:48:34] \"POST / HTTP/1.1\" 200 -\n",
      "127.0.0.1 - - [11/Apr/2020 00:48:34] \"GET / HTTP/1.1\" 200 -\n"
     ]
    }
   ],
   "source": [
    "import os\n",
    "import urllib.request\n",
    "import librosa\n",
    "import soundfile\n",
    "import numpy as np\n",
    "from flask import Flask, flash, request, redirect, render_template\n",
    "from werkzeug.utils import secure_filename\n",
    "import pickle\n",
    "import pandas as pd\n",
    "\n",
    "with open(f'model/modelv9.pkl', 'rb') as f:\n",
    "    model = pickle.load(f)\n",
    "\n",
    "UPLOAD_FOLDER = './uploads'\n",
    "\n",
    "app = Flask(__name__)\n",
    "app.secret_key = \"secret key\"\n",
    "app.config['UPLOAD_FOLDER'] = UPLOAD_FOLDER\n",
    "app.config['MAX_CONTENT_LENGTH'] = 16 * 1024 * 1024\n",
    "\n",
    "ALLOWED_EXTENSIONS = set(['wav'])\n",
    "\n",
    "\n",
    "def extract_feature(file_name):\n",
    "    X, sample_rate = librosa.load(file_name)\n",
    "    stft=np.abs(librosa.stft(X))\n",
    "    result=np.array([])\n",
    "    mfccs=np.mean(librosa.feature.mfcc(y=X, sr=sample_rate, n_mfcc=40).T,axis=0)\n",
    "    result=np.hstack((result, mfccs))\n",
    "    chroma=np.mean(librosa.feature.chroma_stft(S=stft, sr=sample_rate).T,axis=0)\n",
    "    result=np.hstack((result, chroma))\n",
    "    mel=np.mean(librosa.feature.melspectrogram(X, sr=sample_rate).T,axis=0)\n",
    "    result=np.hstack((result, mel))\n",
    "    return result\n",
    "\n",
    "def allowed_file(filename):\n",
    "\treturn '.' in filename and filename.rsplit('.', 1)[1].lower() in ALLOWED_EXTENSIONS\n",
    "\t\n",
    "@app.route('/')\n",
    "def upload_form():\n",
    "\treturn render_template('upload.html', intro=True)\n",
    "\n",
    "@app.route('/', methods=['POST'])\n",
    "def upload_file():\n",
    "    if request.method == 'POST':\n",
    "        if 'file' not in request.files:\n",
    "            flash('Invalid File')\n",
    "            return render_template('upload.html', intro=False)\n",
    "        file = request.files['file']\n",
    "        if file.filename == '':\n",
    "            flash('No file selected for uploading')\n",
    "            return redirect(request.url)\n",
    "        if file and allowed_file(file.filename):\n",
    "            filename = secure_filename(file.filename)\n",
    "            myfile = os.path.join(app.config['UPLOAD_FOLDER'], filename)\n",
    "            file.save(os.path.join(app.config['UPLOAD_FOLDER'], filename))\n",
    "            flash('File successfully uploaded')\n",
    "            feat = extract_feature(myfile)\n",
    "            feat = feat.reshape(1,-1)\n",
    "            prediction = model.predict(feat)\n",
    "            prediction = prediction[0].split('_')\n",
    "            \n",
    "            return  render_template('upload.html', result=True, gender=prediction[1], mood=prediction[0])\n",
    "        else:\n",
    "            flash('Allowed file type is just wav for now')\n",
    "            return render_template('upload.html', intro=False)\n",
    "\n",
    "if __name__ == \"__main__\":\n",
    "    app.run()"
   ]
  },
  {
   "cell_type": "code",
   "execution_count": null,
   "metadata": {},
   "outputs": [],
   "source": []
  },
  {
   "cell_type": "code",
   "execution_count": null,
   "metadata": {},
   "outputs": [],
   "source": []
  }
 ],
 "metadata": {
  "kernelspec": {
   "display_name": "Python 3",
   "language": "python",
   "name": "python3"
  },
  "language_info": {
   "codemirror_mode": {
    "name": "ipython",
    "version": 3
   },
   "file_extension": ".py",
   "mimetype": "text/x-python",
   "name": "python",
   "nbconvert_exporter": "python",
   "pygments_lexer": "ipython3",
   "version": "3.7.4"
  }
 },
 "nbformat": 4,
 "nbformat_minor": 2
}
